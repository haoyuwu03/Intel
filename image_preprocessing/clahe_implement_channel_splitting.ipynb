{
 "cells": [
  {
   "cell_type": "code",
   "execution_count": 1,
   "metadata": {},
   "outputs": [],
   "source": [
    "#import neccessary files\n",
    "import cv2\n",
    "import numpy as np \n",
    "from matplotlib import pyplot as plt "
   ]
  },
  {
   "cell_type": "code",
   "execution_count": 18,
   "metadata": {
    "tags": []
   },
   "outputs": [
    {
     "output_type": "execute_result",
     "data": {
      "text/plain": "-1"
     },
     "metadata": {},
     "execution_count": 18
    }
   ],
   "source": [
    "image = cv2.imread('D:\\d_retinopathy_training\\diabetic_rectinopathy-0-00cc2b75cddd.png')\n",
    "#image = cv2.cvtColor(image, cv2.COLOR_BGR2RGB)\n",
    "#cv2.imshow('image',image)\n",
    "#cv2.waitKey(0)\n",
    "#image = crop_image_from_gray(image)\n",
    "b,g,r = cv2.split(image)\n",
    "clahe = cv2.createCLAHE(clipLimit = 6, tileGridSize=(8,8))\n",
    "cl1 = clahe.apply(b)\n",
    "\n",
    "new_image = cv2.merge((b, cl1, r))\n",
    "cv2.imshow('new', new_image)\n",
    "cv2.waitKey(0)\n",
    "\n"
   ]
  },
  {
   "cell_type": "code",
   "execution_count": 5,
   "metadata": {},
   "outputs": [
    {
     "output_type": "execute_result",
     "data": {
      "text/plain": "-1"
     },
     "metadata": {},
     "execution_count": 5
    }
   ],
   "source": [
    "cv2.imshow(\"old\", image)\n",
    "cv2.waitKey(0)"
   ]
  },
  {
   "cell_type": "code",
   "execution_count": 5,
   "metadata": {},
   "outputs": [
    {
     "output_type": "execute_result",
     "data": {
      "text/plain": "True"
     },
     "metadata": {},
     "execution_count": 5
    }
   ],
   "source": [
    "#saves CLAHE adjusted file.\n",
    "cv2.imwrite(\"D:\\d_retinopathy_training\\Test.png\",cl1)"
   ]
  }
 ],
 "metadata": {
  "language_info": {
   "codemirror_mode": {
    "name": "ipython",
    "version": 3
   },
   "file_extension": ".py",
   "mimetype": "text/x-python",
   "name": "python",
   "nbconvert_exporter": "python",
   "pygments_lexer": "ipython3",
   "version": "3.8.3-final"
  },
  "orig_nbformat": 2,
  "kernelspec": {
   "name": "python38364bit9d5817fe462d4781ab9cc97f31e28f8e",
   "display_name": "Python 3.8.3 64-bit"
  }
 },
 "nbformat": 4,
 "nbformat_minor": 2
}