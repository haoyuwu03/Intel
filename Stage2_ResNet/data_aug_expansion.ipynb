{
  "nbformat": 4,
  "nbformat_minor": 0,
  "metadata": {
    "colab": {
      "name": "data_aug_expansion.ipynb",
      "provenance": [],
      "collapsed_sections": [],
      "machine_shape": "hm"
    },
    "kernelspec": {
      "name": "python3",
      "display_name": "Python 3"
    }
  },
  "cells": [
    {
      "cell_type": "code",
      "metadata": {
        "id": "XDjmkHRNn334",
        "colab_type": "code",
        "colab": {}
      },
      "source": [
        "import cv2\n",
        "import random\n",
        "import numpy as np\n",
        "import matplotlib.pyplot as plt"
      ],
      "execution_count": null,
      "outputs": []
    },
    {
      "cell_type": "code",
      "metadata": {
        "id": "bJ2LruyOoDOG",
        "colab_type": "code",
        "colab": {
          "base_uri": "https://localhost:8080/",
          "height": 34
        },
        "outputId": "a8609733-c4bd-48f2-e159-0d064e938b98"
      },
      "source": [
        "#Mount the Notebook to Drive to Access Files\n",
        "from google.colab import drive\n",
        "drive.mount('/content/gdrive')"
      ],
      "execution_count": null,
      "outputs": [
        {
          "output_type": "stream",
          "text": [
            "Drive already mounted at /content/gdrive; to attempt to forcibly remount, call drive.mount(\"/content/gdrive\", force_remount=True).\n"
          ],
          "name": "stdout"
        }
      ]
    },
    {
      "cell_type": "code",
      "metadata": {
        "id": "7ysHcZUMnzzf",
        "colab_type": "code",
        "colab": {}
      },
      "source": [
        "#Loads the images from image preproccessing\n",
        "testing_data = np.load('/content/gdrive/My Drive/Colab Notebooks/compressed_image_arrays/testing_array.npy', allow_pickle=True)\n",
        "training_data = np.load('/content/gdrive/My Drive/Colab Notebooks/compressed_image_arrays/training_array.npy', allow_pickle=True)\n",
        "validation_data = np.load('/content/gdrive/My Drive/Colab Notebooks/compressed_image_arrays/validation_array.npy', allow_pickle=True)\n",
        "\n",
        "testing_labels = np.load('/content/gdrive/My Drive/Colab Notebooks/compressed_image_arrays/testing_labels.npy', allow_pickle=True)\n",
        "training_labels = np.load('/content/gdrive/My Drive/Colab Notebooks/compressed_image_arrays/training_labels.npy', allow_pickle=True)\n",
        "validation_labels = np.load('/content/gdrive/My Drive/Colab Notebooks/compressed_image_arrays/validation_labels.npy', allow_pickle=True)"
      ],
      "execution_count": null,
      "outputs": []
    },
    {
      "cell_type": "code",
      "metadata": {
        "id": "0T97syVaohDw",
        "colab_type": "code",
        "colab": {}
      },
      "source": [
        "def brightness(img, low, high): #pass in range where random value is chosen\n",
        "    value = random.uniform(low, high) #choose random value\n",
        "    hsv = cv2.cvtColor(img, cv2.COLOR_BGR2HSV) #convert bgr to hsv\n",
        "    hsv = np.array(hsv, dtype = np.float64) #turn into float array\n",
        "    hsv[:,:,1] = hsv[:,:,1]*value #brighter if value is > 1\n",
        "    hsv[:,:,1][hsv[:,:,1]>255]  = 255 #set cap of 255\n",
        "    hsv[:,:,2] = hsv[:,:,2]*value \n",
        "    hsv[:,:,2][hsv[:,:,2]>255]  = 255\n",
        "    hsv = np.array(hsv, dtype = np.uint8) #back to int\n",
        "    img = cv2.cvtColor(hsv, cv2.COLOR_HSV2BGR) #back to BGR\n",
        "    return img\n",
        "\n",
        "def flip(img, flip_direction):\n",
        "    return cv2.flip(img, flip_direction)\n",
        "\n",
        "def rotation(img, angle):\n",
        "    angle = int(random.uniform(-angle, angle))\n",
        "    h, w = img.shape[:2]\n",
        "    M = cv2.getRotationMatrix2D((int(w/2), int(h/2)), angle, 1)\n",
        "    img = cv2.warpAffine(img, M, (w, h))\n",
        "    return img"
      ],
      "execution_count": null,
      "outputs": []
    },
    {
      "cell_type": "code",
      "metadata": {
        "id": "KtazuQf8CPp1",
        "colab_type": "code",
        "colab": {}
      },
      "source": [
        "#function for augmenting images, 4x more images\n",
        "def augment_images(image_array, image_labels):\n",
        "  unaugmented_images = image_array\n",
        "  old_labels = image_labels\n",
        "  augmented_images = []\n",
        "  augmented_labels = []\n",
        "\n",
        "  counter = 0 #counter used so that each of the images will have appropriate labels\n",
        "  for old_image in unaugmented_images:\n",
        "    horizonatal_im = flip(old_image, 1) #flips horizonatally\n",
        "    vertical_im = flip(old_image, 0) #flips vertically\n",
        "    horizontal_vertical_im = flip(horizonatal_im, 0) #flips horizonatally then vertically\n",
        "    normal_im = old_image #keep original image\n",
        "\n",
        "    for label in range(4):\n",
        "      add_label = old_labels[counter] #looks for the correct label for the image\n",
        "      augmented_labels.append(add_label) #adds label to new updated label list\n",
        "\n",
        "    augmented_images.extend((horizonatal_im, vertical_im, horizontal_vertical_im, normal_im)) #adds the augmented images to the new array\n",
        "\n",
        "    counter = counter + 1 #updates counter\n",
        "\n",
        "  return np.asarray(augmented_images), np.asarray(augmented_labels)"
      ],
      "execution_count": null,
      "outputs": []
    },
    {
      "cell_type": "code",
      "metadata": {
        "id": "3fQJ4AJ4tGSB",
        "colab_type": "code",
        "colab": {}
      },
      "source": [
        "augmented_images, labels = augment_images(training_data, training_labels)"
      ],
      "execution_count": null,
      "outputs": []
    },
    {
      "cell_type": "code",
      "metadata": {
        "id": "HZ6sRZmGGl2P",
        "colab_type": "code",
        "colab": {
          "base_uri": "https://localhost:8080/",
          "height": 51
        },
        "outputId": "3e8e4517-f39b-419e-a239-1cc9cdcf9577"
      },
      "source": [
        "print(labels.shape)\n",
        "\n",
        "print(augmented_images.shape)"
      ],
      "execution_count": null,
      "outputs": [
        {
          "output_type": "stream",
          "text": [
            "(10064,)\n",
            "(10064, 224, 224, 3)\n"
          ],
          "name": "stdout"
        }
      ]
    },
    {
      "cell_type": "code",
      "metadata": {
        "id": "dmMEOQg8JnqA",
        "colab_type": "code",
        "colab": {}
      },
      "source": [
        "np.save('/content/gdrive/My Drive/Colab Notebooks/compressed_image_arrays/augmented_training_array.npy', augmented_images) #saves the numpy image arrays"
      ],
      "execution_count": null,
      "outputs": []
    },
    {
      "cell_type": "code",
      "metadata": {
        "id": "T96qYgC1A-j-",
        "colab_type": "code",
        "colab": {}
      },
      "source": [
        "np.save('/content/gdrive/My Drive/Colab Notebooks/compressed_image_arrays/augmented_training_labels.npy', labels) #saves the numpy label arrays"
      ],
      "execution_count": null,
      "outputs": []
    }
  ]
}