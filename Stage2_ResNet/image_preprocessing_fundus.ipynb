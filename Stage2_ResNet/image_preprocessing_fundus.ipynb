{
  "nbformat": 4,
  "nbformat_minor": 0,
  "metadata": {
    "colab": {
      "name": "image_preprocessing_fundus.ipynb",
      "provenance": []
    },
    "kernelspec": {
      "name": "python3",
      "display_name": "Python 3"
    }
  },
  "cells": [
    {
      "cell_type": "code",
      "metadata": {
        "id": "4WYuLsZFvYpc",
        "colab_type": "code",
        "colab": {}
      },
      "source": [
        "#Imports libraries needed\n",
        "import matplotlib.pyplot as plt\n",
        "import matplotlib.image as mpimg\n",
        "import numpy as np\n",
        "import pandas as pd\n",
        "import cv2 as cv2\n",
        "import os as os\n",
        "import h5py as h5py\n",
        "from tqdm import tqdm #gives the status of a loop (important if we have large amounts of data and need to see the progress)"
      ],
      "execution_count": 1,
      "outputs": []
    },
    {
      "cell_type": "code",
      "metadata": {
        "id": "sSBthz_Hcqv9",
        "colab_type": "code",
        "colab": {
          "base_uri": "https://localhost:8080/",
          "height": 122
        },
        "outputId": "dac2a818-3a31-45d2-cfca-a649ee7b146f"
      },
      "source": [
        "#Mount the Notebook to Drive to Access Files\n",
        "from google.colab import drive\n",
        "drive.mount('/content/gdrive')"
      ],
      "execution_count": 2,
      "outputs": [
        {
          "output_type": "stream",
          "text": [
            "Go to this URL in a browser: https://accounts.google.com/o/oauth2/auth?client_id=947318989803-6bn6qk8qdgf4n4g3pfee6491hc0brc4i.apps.googleusercontent.com&redirect_uri=urn%3aietf%3awg%3aoauth%3a2.0%3aoob&response_type=code&scope=email%20https%3a%2f%2fwww.googleapis.com%2fauth%2fdocs.test%20https%3a%2f%2fwww.googleapis.com%2fauth%2fdrive%20https%3a%2f%2fwww.googleapis.com%2fauth%2fdrive.photos.readonly%20https%3a%2f%2fwww.googleapis.com%2fauth%2fpeopleapi.readonly\n",
            "\n",
            "Enter your authorization code:\n",
            "··········\n",
            "Mounted at /content/gdrive\n"
          ],
          "name": "stdout"
        }
      ]
    },
    {
      "cell_type": "code",
      "metadata": {
        "id": "6QpzuK6A9mCu",
        "colab_type": "code",
        "colab": {}
      },
      "source": [
        "#Link all directories\n",
        "image_directory = \"/content/gdrive/My Drive/image_directory\" #path to main directory\n",
        "\n",
        "#Paths to directories\n",
        "files = os.listdir(image_directory)\n",
        "training_images = os.path.join(image_directory, \"training_images/\") #path to training images\n",
        "validation_images = os.path.join(image_directory, \"validation_images/\") #path to validation images\n",
        "testing_images = os.path.join(image_directory, \"testing_images/\") #path to testing_images\n",
        "\n",
        "#File names\n",
        "image_labels = ['cataract', 'hypertensive_retinopathy', 'glaucoma', 'diabetic_retinopathy_1', \n",
        "                'diabetic_retinopathy_2', 'diabetic_retinopathy_3', 'diabetic_retinopathy_4','normal']\n",
        "\n",
        "#Empty lists that will contain the images and labels per category\n",
        "training_data = []\n",
        "training_labels = []\n",
        "validation_data= []\n",
        "validation_labels = []\n",
        "testing_data = []\n",
        "testing_labels = []\n",
        "\n",
        "training_data_size = []\n",
        "validation_data_size = []\n",
        "testing_data_size = []"
      ],
      "execution_count": null,
      "outputs": []
    },
    {
      "cell_type": "code",
      "metadata": {
        "id": "KM3AN4ctwv1d",
        "colab_type": "code",
        "colab": {}
      },
      "source": [
        "#Code to split the images and their respective labels\n",
        "def image_and_labels(directory_path, type):\n",
        "  for label in image_labels:  #for each of the labels read the folder \n",
        "    path = os.path.join(directory_path, label)  #create a path to each of the folders\n",
        "    #class_num = image_labels.index(label) #assigns a class number to each of the labels\n",
        "    for img in tqdm(os.listdir(path)):  #iterates over each image \n",
        "      img_array = cv2.imread(os.path.join(path,img) ,cv2.IMREAD_ANYCOLOR)  #converts to an array\n",
        "      img_array = create_input_data(img_array)\n",
        "\n",
        "      #if else statements to add the data into the associated arrays\n",
        "      if type == 'train':\n",
        "        training_data.append(img_array) #adds the image array and the label (label)\n",
        "        training_labels.append(label)\n",
        "        training_data_size.append('1') # only do this onetime to find out the size of the training\n",
        "      elif type == 'test':\n",
        "        testing_data.append(img_array) #adds the image array and the label (label)\n",
        "        testing_labels.append(label)\n",
        "      elif type == 'vali':\n",
        "        validation_data.append(img_array) #adds the image array and the label (label)\n",
        "        validation_labels.append(label)\n",
        "        validation_data_size.append('1') # only do this one time to find the size of the validation"
      ],
      "execution_count": null,
      "outputs": []
    },
    {
      "cell_type": "code",
      "metadata": {
        "id": "V-qUFSTQdv9Q",
        "colab_type": "code",
        "colab": {}
      },
      "source": [
        "#Image Pre-Processing (CLAHE on \"G\" Channel)\n",
        "#Image Pre-Processing Code is designed from \"Color Retinal Image Enhancement using CLAHE\" research paper.\n",
        "\n",
        "def clahe_process(image_matrix, BGR = True): #filepath is the path to the file, BGR is if the image is BGR format\n",
        "  old_image = image_matrix\n",
        "\n",
        "  #Step 1: Splitting the R, G and B channels (after converting to RGB format if needed)\n",
        "  if BGR == True: #All images that i have checked for cataracts, glaucoma, normal, and diabetic retinopathy are BGR\n",
        "    old_image = cv2.cvtColor(old_image, cv2.COLOR_BGR2RGB)\n",
        "  else:\n",
        "    old_image = image\n",
        "  R, G, B = cv2.split(old_image)\n",
        "\n",
        "  #Step 2: Apply CLAHE on the \"G\" Channel of the image\n",
        "  clahe = cv2.createCLAHE(clipLimit = 1.0, tileGridSize = (8,8)) #Creates a clahe function with clip limit of 1.0 and a comparison range of 8 x 8\n",
        "  G = clahe.apply(G)\n",
        "\n",
        "  #Step 3: Merge image channels\n",
        "  new_image = cv2.merge((R, G, B))\n",
        "  return new_image\n",
        "\n",
        "#Changes the image data into CLAHE filtered data\n",
        "def create_input_data(matrix_image):\n",
        "    #data = []\n",
        "    #for matrix_image in image_matrix_list:\n",
        "        matrix_image = clahe_process(matrix_image)\n",
        "        #data.append(image)\n",
        "        resized_image = cv2.resize(matrix_image, (224, 224))\n",
        "        return resized_image/255.0 #to rescale th image"
      ],
      "execution_count": null,
      "outputs": []
    },
    {
      "cell_type": "code",
      "metadata": {
        "id": "Tc5TP87QALhA",
        "colab_type": "code",
        "colab": {}
      },
      "source": [
        "#saving huge numpy arrays: http://chrisschell.de/2018/02/01/how-to-efficiently-deal-with-huge-Numpy-arrays.html\n",
        "#DO NOT RUN# DO NOT RUN#\n",
        "image_and_labels(testing_images, 'test') #changes all testing data into arrays\n",
        "image_and_labels(training_images, 'train') #changes all training data into arrays\n",
        "image_and_labels(validation_images, 'vali') #changes all validation data into arrays\n",
        "\n",
        "\n",
        "testing_data = np.asarray(testing_data)\n",
        "training_data = np.asarray(training_data)\n",
        "validation_data = np.asarray(validation_data)\n",
        "\n",
        "np.save('/content/gdrive/My Drive/Colab Notebooks/compressed_image_arrays/testing_array.npy', testing_data) #saves the numpy image arrays\n",
        "np.save('/content/gdrive/My Drive/Colab Notebooks/compressed_image_arrays/training_array.npy', training_data) #saves the numpy image arrays\n",
        "np.save('/content/gdrive/My Drive/Colab Notebooks/compressed_image_arrays/validation_array.npy', validation_data) #saves the numpy image arrays\n",
        "\n",
        "testing_labels = np.asarray(testing_labels)\n",
        "traning_labels = np.asarray(training_labels)\n",
        "validation_labels = np.asarray(validation_labels)\n",
        "\n",
        "np.save('/content/gdrive/My Drive/Colab Notebooks/compressed_image_arrays/testing_labels.npy', testing_labels) #saves the numpy label arrays\n",
        "np.save('/content/gdrive/My Drive/Colab Notebooks/compressed_image_arrays/training_labels.npy', training_labels) #saves the numpy label arrays\n",
        "np.save('/content/gdrive/My Drive/Colab Notebooks/compressed_image_arrays/validation_labels.npy', validation_labels) #saves the numpy label arrays\n"
      ],
      "execution_count": null,
      "outputs": []
    }
  ]
}